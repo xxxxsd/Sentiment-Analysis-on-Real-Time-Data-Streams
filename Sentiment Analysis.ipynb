{
 "cells": [
  {
   "cell_type": "markdown",
   "id": "25e7afcf-9ad0-4737-b521-4b6107e09808",
   "metadata": {},
   "source": [
    "#### Imports"
   ]
  },
  {
   "cell_type": "code",
   "execution_count": null,
   "id": "ef7cc06d-1d9e-48c1-8f71-b8eaf6ff1079",
   "metadata": {
    "tags": []
   },
   "outputs": [],
   "source": [
    "from pyspark.sql import SparkSession\n",
    "from pyspark.sql.types import *\n",
    "from pyspark.sql import Window\n",
    "from pyspark.sql.functions import *\n",
    "from collections import Counter\n",
    "from pyspark.ml import Pipeline, PipelineModel\n",
    "from pyspark.ml.classification import LogisticRegression\n",
    "from pyspark.ml.evaluation import MulticlassClassificationEvaluator\n",
    "from pyspark.ml.feature import HashingTF, Tokenizer, StopWordsRemover, StringIndexer\n",
    "import matplotlib.pyplot as plt\n",
    "import numpy as np\n",
    "from sklearn.metrics import confusion_matrix\n",
    "import seaborn as sns\n",
    "import pandas as pd\n",
    "import string\n",
    "import re"
   ]
  },
  {
   "cell_type": "markdown",
   "id": "e58b8c58-6de7-45aa-8a7c-cf83d8b1c710",
   "metadata": {},
   "source": [
    "#### SparkContext"
   ]
  },
  {
   "cell_type": "code",
   "execution_count": null,
   "id": "f441e48d-0380-4997-9fc2-bcd60e7dc072",
   "metadata": {
    "tags": []
   },
   "outputs": [],
   "source": [
    "scala_version = '2.12'\n",
    "spark_version = '3.2.1'\n",
    "packages = [\n",
    "    f'org.apache.spark:spark-sql-kafka-0-10_{scala_version}:{spark_version}',\n",
    "    f'org.apache.spark:spark-streaming-kafka-0-10_{scala_version}:{spark_version}',\n",
    "    f'org.apache.spark:spark-token-provider-kafka-0-10_{scala_version}:{spark_version}',\n",
    "    'org.apache.kafka:kafka-clients:2.1.1',\n",
    "    'org.apache.commons:commons-pool2:2.8.0'\n",
    "]\n",
    "\n",
    "spark = SparkSession.builder \\\n",
    "    .master(\"local[*]\") \\\n",
    "    .appName(\"Real-time Sentiment Analysis with Kafka\") \\\n",
    "    .config(\"spark.jars.packages\", \",\".join(packages)) \\\n",
    "    .getOrCreate()\n",
    "\n",
    "spark.sparkContext.setLogLevel('ERROR')\n"
   ]
  },
  {
   "cell_type": "markdown",
   "id": "6e4bf786-e938-4a9e-9a8a-94d5afd438a0",
   "metadata": {},
   "source": [
    "#### SparkStreaming"
   ]
  },
  {
   "cell_type": "code",
   "execution_count": 3,
   "id": "3f0e2beb-e923-42e9-88ab-e2b56960dc6e",
   "metadata": {
    "tags": []
   },
   "outputs": [],
   "source": [
    "broker = \"EC2 DNS\"\n",
    "topic = \"TOPIC_NAME\"\n",
    "\n",
    "dfraw = spark \\\n",
    "    .readStream \\\n",
    "    .format(\"kafka\") \\\n",
    "    .option(\"kafka.bootstrap.servers\", broker) \\\n",
    "    .option(\"subscribe\", topic) \\\n",
    "    .option(\"includeHeaders\", \"true\") \\\n",
    "    .option(\"startingOffsets\",\"earliest\") \\\n",
    "    .load()"
   ]
  },
  {
   "cell_type": "code",
   "execution_count": 4,
   "id": "ea365986-eeb0-40e5-90da-059d0ce6a8c5",
   "metadata": {},
   "outputs": [
    {
     "name": "stderr",
     "output_type": "stream",
     "text": [
      "[Stage 0:>                                                          (0 + 1) / 1]\r"
     ]
    }
   ],
   "source": [
    "df = dfraw.writeStream.queryName(\"sentiment_data\").format(\"memory\").start()"
   ]
  },
  {
   "cell_type": "markdown",
   "id": "d53fb4dc-c731-4b7e-806d-31041358b0a6",
   "metadata": {},
   "source": [
    "#### SparkSQL"
   ]
  },
  {
   "cell_type": "code",
   "execution_count": 5,
   "id": "86b1da82-a2a5-4e92-83d2-531eb6adc4a3",
   "metadata": {
    "tags": []
   },
   "outputs": [],
   "source": [
    "df = spark.sql(\"select CAST(value AS STRING), topic, timestamp from sentiment_data\")"
   ]
  },
  {
   "cell_type": "code",
   "execution_count": 7,
   "id": "448e4b9d-bcf3-4e50-af3d-b8eddd39283c",
   "metadata": {},
   "outputs": [
    {
     "data": {
      "text/plain": [
       "207"
      ]
     },
     "execution_count": 7,
     "metadata": {},
     "output_type": "execute_result"
    }
   ],
   "source": [
    "df.count()"
   ]
  },
  {
   "cell_type": "markdown",
   "id": "3a8834f6-046f-40b7-bfa0-e5bd4f475459",
   "metadata": {},
   "source": [
    "#### Data Extraction"
   ]
  },
  {
   "cell_type": "code",
   "execution_count": 8,
   "id": "914c18ad-76c5-4910-8857-c96fb5b99cd7",
   "metadata": {},
   "outputs": [],
   "source": [
    "schema = \"array<struct<user_id:int, user_sex:string, user_age:int, user_country:string, rating:float, comment:string, favourite_character:string, date:string>>\"\n",
    "df = df.withColumn(\"parsed_value\", from_json(col(\"value\"), schema))\n",
    "df = df.selectExpr( \"explode(parsed_value) as parsed_value\")\n",
    "df = df.select(col(\"parsed_value.user_id\").alias(\"user_id\"), col(\"parsed_value.user_sex\").alias(\"user_sex\"), col(\"parsed_value.user_age\").alias(\"user_age\"), col(\"parsed_value.user_country\").alias(\"user_country\"), col(\"parsed_value.rating\").alias(\"rating\"), col(\"parsed_value.comment\").alias(\"comment\"), col(\"parsed_value.favourite_character\").alias(\"favourite_character\"), col(\"parsed_value.date\").alias(\"date\"))"
   ]
  },
  {
   "cell_type": "markdown",
   "id": "41ee8d96-b73b-4766-82a1-b9bfce6305da",
   "metadata": {},
   "source": [
    "#### Visualization"
   ]
  },
  {
   "cell_type": "code",
   "execution_count": 9,
   "id": "bf527901-cd3e-4272-874c-bfb9a88ac877",
   "metadata": {},
   "outputs": [
    {
     "name": "stderr",
     "output_type": "stream",
     "text": [
      "                                                                                \r"
     ]
    }
   ],
   "source": [
    "data = df.withColumn(\"sentiment\", when(df[\"rating\"] > 3.0, 'positive').when(df[\"rating\"] < 3.0, 'negative').otherwise('neutral'))\n",
    "data = data.withColumn(\"comments\", regexp_replace(\"comment\", \"[^\\w\\s]\", \"\"))\n",
    "\n",
    "token = Tokenizer(inputCol='comments', outputCol='tokenized_comment')\n",
    "data = token.transform(data)\n",
    "\n",
    "stopwords = StopWordsRemover(inputCol='tokenized_comment', outputCol='cleaned_words')\n",
    "data = stopwords.transform(data)\n",
    "\n",
    "custom_stopwords = [\"arc\", \"place\", \"make\", \"films\"]\n",
    "stopwords = StopWordsRemover(inputCol='cleaned_words', outputCol='cleaned_word', stopWords=custom_stopwords)\n",
    "data = stopwords.transform(data)\n",
    "\n",
    "data = data.withColumn(\"word\", explode(\"cleaned_word\"))\n",
    "\n",
    "positive = data.filter(data['sentiment'] == 'positive')\n",
    "positive = positive.groupBy(\"word\",'sentiment').count().limit(5).orderBy('count', ascending=False).toPandas()\n",
    "\n",
    "negative = data.filter(data['sentiment'] == 'negative')\n",
    "negative = negative.groupBy(\"word\", 'sentiment').count().limit(5).orderBy('count', ascending=False).toPandas()\n",
    "\n",
    "neutral = data.filter(data['sentiment'] == 'neutral')\n",
    "neutral = neutral.groupBy(\"word\",'sentiment').count().limit(5).orderBy('count',ascending=False).toPandas()"
   ]
  },
  {
   "cell_type": "code",
   "execution_count": null,
   "id": "1c2660eb-d743-4acc-978e-8c087dbd5fba",
   "metadata": {},
   "outputs": [],
   "source": [
    "top_words = pd.concat([positive, negative, neutral])\n",
    "plt.figure(figsize=(10, 6))\n",
    "sns.barplot(x=\"count\", y=\"word\", hue=\"sentiment\", data=top_words, palette={\"positive\": \"green\", \"negative\": \"red\", \"neutral\": \"blue\"})\n",
    "plt.xlabel('Frequency')\n",
    "plt.ylabel('Words')\n",
    "plt.title('Top 5 Word Frequency by Sentiment')\n",
    "plt.savefig('words.png')"
   ]
  },
  {
   "cell_type": "markdown",
   "id": "f090631f-bc4e-41d9-a6bf-222cbd392ad7",
   "metadata": {},
   "source": [
    "#### Train Model "
   ]
  },
  {
   "cell_type": "code",
   "execution_count": 11,
   "id": "52eda2a9-7000-4ffb-b5a9-841b77b1b87b",
   "metadata": {},
   "outputs": [
    {
     "name": "stderr",
     "output_type": "stream",
     "text": [
      "                                                                                \r"
     ]
    }
   ],
   "source": [
    "# Drop full row duplicates\n",
    "df = df.drop_duplicates()\n",
    "\n",
    "# Create label based on rating\n",
    "df = df.withColumn(\"label\", when(df[\"rating\"] > 3.0, 2.0).when(df[\"rating\"] < 3.0, 0.0).otherwise(1.0))\n",
    "\n",
    "# Balance each label  \n",
    "window = Window.partitionBy(\"label\").orderBy(rand())\n",
    "df = df.withColumn(\"row_number\", row_number().over(window))\n",
    "df = df.filter(\"row_number <= 30\").drop(\"row_number\")\n",
    "\n",
    "# Tokenize and remove stopwords\n",
    "tokenizer = Tokenizer(inputCol=\"comment\", outputCol=\"tokenized_comment\")\n",
    "stopwordsRemover = StopWordsRemover(inputCol='tokenized_comment', outputCol=\"meaningfulWords\")\n",
    "\n",
    "# Hash tokens into feature vectors\n",
    "hashingTF = HashingTF(inputCol=\"meaningfulWords\", outputCol=\"features\")\n",
    "\n",
    "# Create logistic regression model\n",
    "lr = LogisticRegression(labelCol=\"label\", featuresCol=\"features\")\n",
    "\n",
    "# Create pipeline\n",
    "pipeline = Pipeline(stages=[tokenizer, stopwordsRemover, hashingTF, lr])\n",
    "\n",
    "# Split data into train & test set\n",
    "df_Train, df_Test = df.randomSplit([0.6, 0.4], seed=1)\n",
    "model = pipeline.fit(df_Train)\n",
    "\n",
    "# Save the trained model to disk\n",
    "path = 'you_model_path'\n",
    "model.write().overwrite().save(path)\n",
    "\n",
    "# Load the trained model\n",
    "loaded_model = PipelineModel.load(path)"
   ]
  },
  {
   "cell_type": "markdown",
   "id": "dc1610fa-2041-4a9b-bdce-e84c5a920725",
   "metadata": {},
   "source": [
    "#### Testing & Evaluating Sentiments"
   ]
  },
  {
   "cell_type": "code",
   "execution_count": 14,
   "id": "f8c6711b-9221-4344-a5d0-9db2bd44d2b7",
   "metadata": {},
   "outputs": [
    {
     "name": "stdout",
     "output_type": "stream",
     "text": [
      "Test Accuracy: 0.75\n"
     ]
    },
    {
     "name": "stderr",
     "output_type": "stream",
     "text": [
      "                                                                                \r"
     ]
    }
   ],
   "source": [
    "# Make predictions on test data\n",
    "df_Test_predictions = loaded_model.transform(df_Test)\n",
    "\n",
    "# Evaluate model\n",
    "evaluator = MulticlassClassificationEvaluator(labelCol=\"label\", predictionCol=\"prediction\", metricName=\"accuracy\")\n",
    "accuracy = evaluator.evaluate(df_Test_predictions)\n",
    "print(\"Test Accuracy:\", accuracy)"
   ]
  },
  {
   "cell_type": "code",
   "execution_count": 22,
   "id": "93a46848-3bfe-4540-9e74-918c894a0e2f",
   "metadata": {},
   "outputs": [
    {
     "data": {
      "image/png": "[encoded data removed]",
      "text/plain": [
       "<Figure size 576x432 with 2 Axes>"
      ]
     },
     "metadata": {
      "needs_background": "light"
     },
     "output_type": "display_data"
    }
   ],
   "source": [
    "# Define a mapping dictionary for numeric labels to sentiment names\n",
    "label_mapping = {0: 'negative', 1: 'neutral', 2: 'positive'}\n",
    "\n",
    "# Extract true labels and predicted labels\n",
    "true_labels = df_Test_predictions.select(\"label\").rdd.map(lambda row: row[0]).collect()\n",
    "predicted_labels = df_Test_predictions.select(\"prediction\").rdd.map(lambda row: row[0]).collect()\n",
    "\n",
    "# Compute confusion matrix\n",
    "cm = confusion_matrix(true_labels, predicted_labels)\n",
    "\n",
    "# Plot confusion matrix\n",
    "plt.figure(figsize=(8, 6))\n",
    "sns.heatmap(cm, annot=True, fmt=\"d\", cmap=\"Pastel1\", xticklabels=label_mapping.values(), yticklabels=label_mapping.values())\n",
    "plt.xlabel('Predicted Label')\n",
    "plt.ylabel('True Label')\n",
    "plt.title('Confusion Matrix')\n",
    "plt.savefig('cm')\n",
    "plt.show()\n"
   ]
  },
  {
   "cell_type": "markdown",
   "id": "c00ba79e-48d4-4986-9266-68080ac5434a",
   "metadata": {},
   "source": [
    "# Predictions on the fly"
   ]
  },
  {
   "cell_type": "markdown",
   "id": "90027abf-cb19-4d2c-89fe-ba0d995bcbe6",
   "metadata": {},
   "source": [
    "### Fetch & Process Latest Data"
   ]
  },
  {
   "cell_type": "code",
   "execution_count": 19,
   "id": "3e696d1d-6838-477a-bca8-b7312cb782e0",
   "metadata": {},
   "outputs": [],
   "source": [
    "# Load latest data from Kafka for real-time prediction\n",
    "new_stream = spark \\\n",
    "    .readStream \\\n",
    "    .format(\"kafka\") \\\n",
    "    .option(\"kafka.bootstrap.servers\", broker) \\\n",
    "    .option(\"subscribe\", topic) \\\n",
    "    .option(\"includeHeaders\", \"true\") \\\n",
    "    .option(\"startingOffsets\",\"latest\") \\\n",
    "    .load()\n",
    "\n",
    "new_stream = new_stream.writeStream.queryName(\"new_stream\").format(\"memory\").start()\n",
    "new_stream = spark.sql(\"select CAST(value AS STRING), topic, timestamp from new_stream\")\n",
    "\n",
    "# Preprocess the streaming data\n",
    "new_stream_processed = new_stream.withColumn(\"parsed_value\", from_json(col(\"value\"), schema)) \\\n",
    "    .selectExpr(\"explode(parsed_value) as parsed_value\") \\\n",
    "    .select( col(\"parsed_value.user_id\").alias(\"user_id\"),\n",
    "             col(\"parsed_value.comment\").alias(\"comment\"))"
   ]
  },
  {
   "cell_type": "markdown",
   "id": "752b6c8b-ffaf-42c7-af47-a745e62310b6",
   "metadata": {},
   "source": [
    "### Make real-time predictions"
   ]
  },
  {
   "cell_type": "code",
   "execution_count": 21,
   "id": "799bac38-5f61-4d1e-8144-e936a338158b",
   "metadata": {},
   "outputs": [
    {
     "name": "stdout",
     "output_type": "stream",
     "text": [
      "+-------+----------------------------------------------------------------+----------+\n",
      "|user_id|probability                                                     |prediction|\n",
      "+-------+----------------------------------------------------------------+----------+\n",
      "|32     |[7.412399821091066E-10,1.1448663678510571E-9,0.9999999981138936]|2.0       |\n",
      "|346    |[0.8178324521737941,8.333714675380888E-4,0.1813341763586679]    |0.0       |\n",
      "|484    |[2.7168997194719404E-4,0.019169660259618766,0.9805586497684341] |2.0       |\n",
      "|164    |[0.7381313030582177,0.04580833594345796,0.21606036099832426]    |0.0       |\n",
      "|19     |[0.9997294769153968,1.9540708549074728E-5,2.5098237605408215E-4]|0.0       |\n",
      "+-------+----------------------------------------------------------------+----------+\n",
      "only showing top 5 rows\n",
      "\n"
     ]
    },
    {
     "name": "stderr",
     "output_type": "stream",
     "text": [
      "                                                                                \r"
     ]
    }
   ],
   "source": [
    "predictions = loaded_model.transform(new_stream_processed)\n",
    "predictions.select('user_id', 'probability', 'prediction').show(5,False)"
   ]
  },
  {
   "cell_type": "code",
   "execution_count": null,
   "id": "cb218964-3b2e-43f8-95a7-31cfa2a1c8da",
   "metadata": {},
   "outputs": [],
   "source": []
  }
 ],
 "metadata": {
  "kernelspec": {
   "display_name": "Python 3 (ipykernel)",
   "language": "python",
   "name": "python3"
  },
  "language_info": {
   "codemirror_mode": {
    "name": "ipython",
    "version": 3
   },
   "file_extension": ".py",
   "mimetype": "text/x-python",
   "name": "python",
   "nbconvert_exporter": "python",
   "pygments_lexer": "ipython3",
   "version": "3.12.7"
  }
 },
 "nbformat": 4,
 "nbformat_minor": 5
}
