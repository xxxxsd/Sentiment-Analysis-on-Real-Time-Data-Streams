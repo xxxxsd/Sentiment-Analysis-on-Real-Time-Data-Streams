{
 "cells": [
  {
   "cell_type": "markdown",
   "id": "a57f9325-23b6-41b6-922c-ddaf608cd937",
   "metadata": {
    "tags": []
   },
   "source": [
    "## Kafka Producer"
   ]
  },
  {
   "cell_type": "code",
   "execution_count": null,
   "id": "ae6f74ab-056a-4ac3-88ef-ab15a29e7427",
   "metadata": {
    "tags": []
   },
   "outputs": [],
   "source": [
    "from json import *\n",
    "import pandas as pd\n",
    "from time import sleep\n",
    "from kafka import KafkaProducer"
   ]
  },
  {
   "cell_type": "code",
   "execution_count": null,
   "id": "c54f40bd-7ee4-4936-a0bb-77378a6c1b15",
   "metadata": {
    "tags": []
   },
   "outputs": [],
   "source": [
    "# Create a KafkaProducer object \n",
    "producer = KafkaProducer(bootstrap_servers=['Public DNS of EC2:9092'], \n",
    "                         value_serializer=lambda x: dumps(x).encode('utf-8'))"
   ]
  },
  {
   "cell_type": "code",
   "execution_count": null,
   "id": "86244def-4bd4-42b3-8364-1f38c83b6e50",
   "metadata": {
    "tags": []
   },
   "outputs": [],
   "source": [
    "# load dataset\n",
    "df = pd.read_csv('PATH')"
   ]
  },
  {
   "cell_type": "code",
   "execution_count": null,
   "id": "fc9ca7f0-df68-4fda-96a8-991c612d92b3",
   "metadata": {},
   "outputs": [],
   "source": [
    "df.head()"
   ]
  },
  {
   "cell_type": "code",
   "execution_count": null,
   "id": "1c8f2a08-5262-42e9-b18a-e7ef60fc9f27",
   "metadata": {},
   "outputs": [],
   "source": [
    "# Send the sampled data to the Kafka topic named 'mytopic1'\n",
    "while True:\n",
    "    data = df.sample(1).to_dict(orient='records')\n",
    "    producer.send('mytopic1', value=data)\n",
    "    sleep(2)"
   ]
  },
  {
   "cell_type": "code",
   "execution_count": null,
   "id": "01a0f247-b576-4a28-b1a3-91d04adf0dcc",
   "metadata": {},
   "outputs": [],
   "source": [
    "# clean up \n",
    "producer.flush() "
   ]
  },
  {
   "cell_type": "code",
   "execution_count": null,
   "id": "3c84c05c-6beb-444b-b4e9-fc34076399e7",
   "metadata": {},
   "outputs": [],
   "source": []
  }
 ],
 "metadata": {
  "kernelspec": {
   "display_name": "Python 3",
   "language": "python",
   "name": "python3"
  },
  "language_info": {
   "codemirror_mode": {
    "name": "ipython",
    "version": 3
   },
   "file_extension": ".py",
   "mimetype": "text/x-python",
   "name": "python",
   "nbconvert_exporter": "python",
   "pygments_lexer": "ipython3",
   "version": "3.13.0"
  }
 },
 "nbformat": 4,
 "nbformat_minor": 5
}
