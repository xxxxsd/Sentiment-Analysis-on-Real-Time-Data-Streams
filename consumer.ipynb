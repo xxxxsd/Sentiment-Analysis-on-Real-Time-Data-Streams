{
 "cells": [
  {
   "cell_type": "markdown",
   "id": "e0f4ad8b-313c-4a5f-a16e-ef388040cf41",
   "metadata": {},
   "source": [
    "## Kakfa Consumer"
   ]
  },
  {
   "cell_type": "code",
   "execution_count": null,
   "id": "a0280ae3-a674-4e79-8442-9771a525f3f3",
   "metadata": {},
   "outputs": [],
   "source": [
    "from time import sleep\n",
    "from json import loads\n",
    "from kafka import KafkaConsumer"
   ]
  },
  {
   "cell_type": "code",
   "execution_count": null,
   "id": "590082c5-097e-4b50-b1a3-05a5d3df9e80",
   "metadata": {},
   "outputs": [],
   "source": [
    "consumer = KafkaConsumer(\n",
    "    'mytopic1',\n",
    "    bootstrap_servers=['EC2 Public DNS:9092'],\n",
    "    value_deserializer=lambda x: loads(x.decode('utf-8')))"
   ]
  },
  {
   "cell_type": "code",
   "execution_count": null,
   "id": "3f736b28-f901-4aae-afcc-10473a46ebfe",
   "metadata": {},
   "outputs": [],
   "source": [
    "for consumer_data in consumer:\n",
    "    print(consumer_data.value)\n",
    "    sleep(2)"
   ]
  },
  {
   "cell_type": "code",
   "execution_count": null,
   "id": "43af374d-8f36-4465-a012-cb2cca8dc184",
   "metadata": {},
   "outputs": [],
   "source": []
  }
 ],
 "metadata": {
  "kernelspec": {
   "display_name": "Python 3 (ipykernel)",
   "language": "python",
   "name": "python3"
  },
  "language_info": {
   "codemirror_mode": {
    "name": "ipython",
    "version": 3
   },
   "file_extension": ".py",
   "mimetype": "text/x-python",
   "name": "python",
   "nbconvert_exporter": "python",
   "pygments_lexer": "ipython3",
   "version": "3.12.7"
  }
 },
 "nbformat": 4,
 "nbformat_minor": 5
}
